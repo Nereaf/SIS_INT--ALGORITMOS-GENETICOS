{
 "cells": [
  {
   "cell_type": "markdown",
   "id": "3d57d457",
   "metadata": {},
   "source": [
    "\n",
    "# Práctica 3: Metaheurísticas basadas en poblaciones - Algoritmos Genéticos"
   ]
  },
  {
   "cell_type": "markdown",
   "id": "dc9d72a9",
   "metadata": {},
   "source": [
    "<center><h3>\n",
    "    Nerea Freiría Alonso\n",
    "</h3></center>\n"
   ]
  },
  {
   "cell_type": "markdown",
   "id": "8087aede",
   "metadata": {},
   "source": [
    "## Instrucciones"
   ]
  },
  {
   "cell_type": "markdown",
   "id": "a351019b",
   "metadata": {},
   "source": [
    "Esto es **Jupyter Notebook**, un documento que integra código Python en un archivo Markdown.\n",
    "Esto nos permite ir ejecutando celdas de código poco a poco, así como generar automáticamente un informe bien formateado de la práctica.\n",
    "\n",
    "Puedes añadir una celda con el botón **\"Insert\"** de la barra de herramentas, y cambiar su tipo con **\"Cell > Cell Type\"**\n",
    "\n",
    "Para ejecutar una celda de código, la seleccionaremos y pulsaremos el botón **\"▶ Run\"** de la barra de herramentas.\n",
    "Para pasar el documento a HTML, seleccionaremos **\"File > Download as > HTML (.html)\"**\n",
    "\n",
    "Sigue este guión hasta el final. Ejecuta el código proporcionado paso a paso comprendiendo lo que estás haciendo y reflexionando sobre los resultados. Habrá preguntas intercaladas a lo largo del guión, responde a todas ellas en la sección reservada para ese fin: **\"Respuestas a los cuestionarios\"**. Por favor, no modifiques ninguna linea de código excepto cuando se te pida explícitamente.\n",
    "\n",
    "No olvides insertar tu **nombre y apellidos** en la celda superior.\n",
    "\n",
    "IMPORTANTE: Escribe el código de tu o tus soluciones/respuestas en las celdas que se indican para ello. Además, a lo largo de la práctica se plantearán varias preguntas que debéis responder en la parte inferior del documento, incluyendo las celdas que veáis necesarias (si hacéis referencia a partes concretas de vuestro código, etc) para reponder a ellas."
   ]
  },
  {
   "cell_type": "markdown",
   "id": "3c804f80",
   "metadata": {},
   "source": [
    "## Entrega de la práctica"
   ]
  },
  {
   "cell_type": "markdown",
   "id": "797d20ec",
   "metadata": {},
   "source": [
    "La fecha límite de entrega será la indicada en el Campus Virtual. La entrega consistirá de un único archivo comprimido con nombre `APELIDOS_NOME_Geneticos.zip` que contenga los seguientes ficheros:\n",
    "\n",
    " * `APELIDOS_NOME_Geneticos.html`: Archivo HTML fruto de la exportación del presente Notebook, con las preguntas respondidas al final del documento.\n",
    " * `APELIDOS_NOME_Geneticos.ipynb`: Archivo fuente Jupyter Notebook.\n",
    " * Archivo de datos de los problema utilizados en la resolución."
   ]
  },
  {
   "cell_type": "markdown",
   "id": "f7f872a1",
   "metadata": {},
   "source": [
    "\n",
    "## Preliminares adicionales sobre Python\n"
   ]
  },
  {
   "cell_type": "markdown",
   "id": "3c2f982c",
   "metadata": {},
   "source": [
    "Para esta práctica, te sugerimos algunas funciones de paquetes que pueden resultarte útiles en la realización de esta práctica."
   ]
  },
  {
   "cell_type": "markdown",
   "id": "a44c3145",
   "metadata": {},
   "source": [
    "Has visto que cuando realizas laboratorios y pruebas para ajustar parámetros resulta necesario tener una estimación del tiempo invertido en la ejecución. Eso ayuda a valorar el balance del tiempo computacional frente a la inclusión de valores de parámetros en el laboratorio. En ese sentido, puede resultar conveniente añadir barras de progreso que además te permitan visualizar el progreso de resolución de las iteraciones. Para ese propósito podéis hacer uso del paquete `tqdm` (https://tqdm.github.io/). \n",
    "\n",
    "Puedes ver ejemplos en detalle descritos en https://towardsdatascience.com/progress-bars-for-python-with-tqdm-4dba0d4cb4c\n",
    "\n",
    "Veámos un ejemplo ilustrativo aquí."
   ]
  },
  {
   "cell_type": "code",
   "execution_count": 133,
   "id": "55d5cbd3",
   "metadata": {},
   "outputs": [],
   "source": [
    "# solo debes importarlo una vez en el notebook.\n",
    "# fíjate que estamos importando del paquete tqdm.notebook para que incorpore los decoradores compatibles en Jupyter \n",
    "# (en Python podrías importar simplemente desde el paquete tdqm)\n",
    "from tqdm.notebook import trange, tqdm"
   ]
  },
  {
   "cell_type": "markdown",
   "id": "aa7222d1",
   "metadata": {},
   "source": [
    "`tqdm` permite añadir una barra de progreso que informe sobre el tiempo y el paso de iteraciones. En el ejemplo, la variable `nit` son el número de iteraciones a realizar y para conseguir que se visualize el progreso se pasa a `tqdm` un iterador de rango."
   ]
  },
  {
   "cell_type": "code",
   "execution_count": 134,
   "id": "d6354e9a",
   "metadata": {},
   "outputs": [
    {
     "data": {
      "application/vnd.jupyter.widget-view+json": {
       "model_id": "0cce15bc044c457cbf4d98efabe69909",
       "version_major": 2,
       "version_minor": 0
      },
      "text/plain": [
       "Coin Flip Progress:   0%|          | 0/1000000 [00:00<?, ?it/s]"
      ]
     },
     "metadata": {},
     "output_type": "display_data"
    }
   ],
   "source": [
    "from random import randint\n",
    "\n",
    "heads = 0\n",
    "tails = 0\n",
    "nit=1000000\n",
    "for i in tqdm(range(nit), desc='Coin Flip Progress'):\n",
    "    toss = randint(0, 1)\n",
    "    if toss == 0:\n",
    "        heads += 1\n",
    "    else:\n",
    "        tails += 1"
   ]
  },
  {
   "cell_type": "markdown",
   "id": "a9c96428",
   "metadata": {},
   "source": [
    "El paquete nos ofrece la posibilidad combinar `tdqm(range(NUM_IT))` en una única función, llamada `trange(NUM_IT)`. Veamos su funcionamiento en el siguiente ejemplo, que muestra también cómo podemos hacer cuando necesitamos llevar cuenta del progreso en bucles anidados."
   ]
  },
  {
   "cell_type": "code",
   "execution_count": 135,
   "id": "371102aa",
   "metadata": {
    "scrolled": true
   },
   "outputs": [
    {
     "data": {
      "application/vnd.jupyter.widget-view+json": {
       "model_id": "1f6670a0e5ae43d3a218b379a828a1fc",
       "version_major": 2,
       "version_minor": 0
      },
      "text/plain": [
       "Overall Progress:   0%|          | 0/3 [00:00<?, ?it/s]"
      ]
     },
     "metadata": {},
     "output_type": "display_data"
    },
    {
     "data": {
      "application/vnd.jupyter.widget-view+json": {
       "model_id": "c5022ef106cd40b6b11b96c1bcdd123a",
       "version_major": 2,
       "version_minor": 0
      },
      "text/plain": [
       "Game 1 Progress:   0%|          | 0/1000000 [00:00<?, ?it/s]"
      ]
     },
     "metadata": {},
     "output_type": "display_data"
    },
    {
     "name": "stdout",
     "output_type": "stream",
     "text": [
      "Heads: 499979, Tails: 500021\n"
     ]
    },
    {
     "data": {
      "application/vnd.jupyter.widget-view+json": {
       "model_id": "6ef89c68b7f04fd6a3d8a3baba223794",
       "version_major": 2,
       "version_minor": 0
      },
      "text/plain": [
       "Game 2 Progress:   0%|          | 0/1000000 [00:00<?, ?it/s]"
      ]
     },
     "metadata": {},
     "output_type": "display_data"
    },
    {
     "name": "stdout",
     "output_type": "stream",
     "text": [
      "Heads: 499651, Tails: 500349\n"
     ]
    },
    {
     "data": {
      "application/vnd.jupyter.widget-view+json": {
       "model_id": "11bbfb82904e4961a1e024341df7bd8e",
       "version_major": 2,
       "version_minor": 0
      },
      "text/plain": [
       "Game 3 Progress:   0%|          | 0/1000000 [00:00<?, ?it/s]"
      ]
     },
     "metadata": {},
     "output_type": "display_data"
    },
    {
     "name": "stdout",
     "output_type": "stream",
     "text": [
      "Heads: 500213, Tails: 499787\n"
     ]
    }
   ],
   "source": [
    "num_games = 3\n",
    "\n",
    "for game in trange(num_games, desc='Overall Progress'):\n",
    "    heads = 0\n",
    "    tails = 0\n",
    "    nit=1000000\n",
    "    for j in trange((nit), desc=f'Game {game+1} Progress'):\n",
    "        toss = randint(0, 1)\n",
    "        if toss == 0:\n",
    "            heads += 1\n",
    "        else:\n",
    "            tails += 1\n",
    "            \n",
    "    print(f'Heads: {heads}, Tails: {tails}')\n"
   ]
  },
  {
   "cell_type": "markdown",
   "id": "0af03924",
   "metadata": {},
   "source": [
    "Aprovechamos para recordarte que puedes utilizar semillas en la generación de secuencias de números aleatorios para hacer determinista y más verificable tu implementación. "
   ]
  },
  {
   "cell_type": "code",
   "execution_count": 136,
   "id": "c5b8ebd4",
   "metadata": {},
   "outputs": [],
   "source": [
    "import random\n",
    "import time"
   ]
  },
  {
   "cell_type": "code",
   "execution_count": 137,
   "id": "f5f92f1d",
   "metadata": {},
   "outputs": [
    {
     "name": "stdout",
     "output_type": "stream",
     "text": [
      "vector aleatorio  [2, 5, 9, 2, 2, 2, 2, 10, 10]\n",
      "vector aleatorio  [5, 1, 3, 1, 2, 1, 5, 1, 2]\n",
      "vector aleatorio igual que el anterior [5, 1, 3, 1, 2, 1, 5, 1, 2]\n"
     ]
    }
   ],
   "source": [
    "# este vector será aleatorio si no habíamos establecido una semilla previamente.\n",
    "# Podríamos tener incluso una semilla basada en el tiempo actual para forzar que se aleatorice \n",
    "# si ejecutamos esta celda múltiples veces\n",
    "random.seed(time.time())\n",
    "\n",
    "vector_aleatorio = [ random.randint(1, 10) for i in range(1,10) ]\n",
    "print (\"vector aleatorio \", vector_aleatorio)\n",
    "\n",
    "# aquí establecemos una semilla totalmente fija\n",
    "# que no depende del tiempo y por tanto está bajo nuestro control\n",
    "semilla = 123456\n",
    "random.seed (semilla)\n",
    "\n",
    "# este viene determinado por la semilla\n",
    "vector_aleatorio = [ random.randint(1, 10) for i in range(1,10) ]\n",
    "print (\"vector aleatorio \", vector_aleatorio)\n",
    "\n",
    "# y ahora somos capaces de generar la misma serie \"aleatoria\"\n",
    "random.seed (semilla)\n",
    "vector_aleatorio = [ random.randint(1, 10) for i in range(1,10) ]\n",
    "print (\"vector aleatorio igual que el anterior\", vector_aleatorio)\n"
   ]
  },
  {
   "cell_type": "markdown",
   "id": "1758b878",
   "metadata": {},
   "source": [
    "Esto puede ser útil para verificar que siempre obtienes los mismos resultados ante el mismo conjunto de entradas."
   ]
  },
  {
   "cell_type": "markdown",
   "id": "f73d01d4",
   "metadata": {},
   "source": [
    "## El Problema del Viajante de Comercio (VC) con Algoritmos Genéticos\n",
    "\n",
    "El objetivo de esta práctica es modelar e implementar un agente inteligente que sea capaz de resolver el problema del VC mediante la metaheurística (MH) de poblaciones conocida como Algoritmo Genético (GA, del inglés *Genetic  Algorithm*). Para ello, realizarás una implementación del algoritmo básico visto en la clase expositiva y valorarás si la introducción de modificaciones en el diseño del algoritmo te permite mejorar la calidad de las soluciones alcanzadas."
   ]
  },
  {
   "cell_type": "markdown",
   "id": "8d0f75f2",
   "metadata": {},
   "source": [
    "\n",
    "### Definición del problema de Viajante de Comercio (VC)\n"
   ]
  },
  {
   "cell_type": "markdown",
   "id": "3a2d6367",
   "metadata": {},
   "source": [
    "La definición del problema sigue la descripción ya vista en las prácticas anterior, en la que se disponía de una represetación del problema mediante un grafo ponderado. Así que, en primer lugar importa el módulo Python que acompaña esta práctica, que ya trae las funciones de apoyo como la clase `Localizaciones` que implementaba la carga de datos y que utilizaba una matriz de adyacencia."
   ]
  },
  {
   "cell_type": "code",
   "execution_count": 138,
   "id": "7e422090",
   "metadata": {},
   "outputs": [],
   "source": [
    "from helpers_mod_ga import *"
   ]
  },
  {
   "cell_type": "markdown",
   "id": "87ee11d6",
   "metadata": {},
   "source": [
    "Si todo va bien, la primera distancia entre la ciudad 0 y 1 debe ser unos 55 km para el problema de las 8 ciudades gallegas."
   ]
  },
  {
   "cell_type": "code",
   "execution_count": 139,
   "id": "12ff980c",
   "metadata": {},
   "outputs": [
    {
     "name": "stdout",
     "output_type": "stream",
     "text": [
      "55.88273580792048\n"
     ]
    }
   ],
   "source": [
    "g1=Localizaciones(filename='./data/grafo8cidades.txt')\n",
    "print (g1.distancia(0,1))\n",
    "\n",
    "g2=Localizaciones(filename='./data/US120.txt')"
   ]
  },
  {
   "cell_type": "markdown",
   "id": "045122c3",
   "metadata": {},
   "source": [
    "\n",
    "## P3.1: Implementación básica de Algoritmo Genético\n"
   ]
  },
  {
   "cell_type": "markdown",
   "id": "88a4e0a6",
   "metadata": {},
   "source": [
    "\n",
    "Implementa un algoritmo genético básico para resolver el problema del VC, siguiendo la descripción algorítmica de la MH vista en la clase expositiva.\n",
    "\n",
    "Ten en cuenta las siguientes consideraciones de diseño para completar esta implementación básica:\n",
    "- Representación  de  las  soluciones:  representación  de  orden  (permutaciones) comenzando y finalizando en la ciudad 0. \n",
    "\n",
    "- Población inicial: inicialización completamente aleatoria de la población inicial, que sean permutaciones válidas.\n",
    "\n",
    "- Operador de cruce: Order Crossover (OX). La función/método que se encargue de hacer el cruce ordenado debe aceptar como parámetros la probabilidad de cruce (por defecto, establecida a pc=0.95), los dos puntos de corte así como los cromosomas sobre los que actuar.\n",
    "\n",
    "- Operador de mutación: se utilizará el operador de intercambio, aplicado con una probabilidad de mutación. Vuestra implementación debe manejar dos variantes de esta función:\n",
    "    - Mutación individual: solo se aplica la mutación, si procede, sobre un único gen en el cromosoma. La probabilidad de mutación por defecto se establece pm=0.25. Esta función debería aceptar el índice del gen sobre el que actuar además de la probabilidad de mutación y el cromosoma original.\n",
    "    - Mutación cromosómica: se aplica la mutación contemplando todo el cromosoma, de forma que individualmente puede mutar cada gen de manera independiente según una probabilidad de mutación, establecida por defecto a pm=0.01.\n",
    "\n",
    "- El reemplazo de la generación debe seguir un modelo de reemplazo generacional con elitismo. En particular, tu implementación debe disponer de dos variantes de la función de reemplazo:\n",
    "    - mitades: haz que la mitad de la población resultante del reemplazo provenga de la generación actual mientras que la otra mitad provenga de los descendientes, tomando en ambos casos los mejores individuos. \n",
    "    - elitismo \"elite=2\": de esta forma, hay que mantener los 2 mejores individuos de la generación actual/ancestros; mientras que el resto provienen de entre los mejores hijos. La función de reemplazo debería parametrizar \"elite\".\n",
    "    \n",
    "Ambas variantes deben recibir como parámetro la lista de cromosomas de las poblaciones ascentros e hijos generados y retornar la población resultante.\n",
    "    \n",
    "\n",
    "- Condición de parada simple basado en un número de iteraciones máximo pasado como parámetro.\n",
    "\n",
    "- La implementación debe ser completamente parametrizable, de forma que todos los componentes susceptibles de ser ajustados mediante parámetros deberían puedan ser establecidos en cada ejecución/problema.\n",
    "\n",
    "\n",
    "Lanza varias ejecuciones para verificar que puede resolver el problema con los siguientes grafos de\n",
    "ejemplo:\n",
    "- grafo 8 ciudades gallegas (`data/grafo8cidades.txt`), con una población de 2 individuos y 150 iteraciones.\n",
    "- grafo 120 ciudades estadounidenses (`data/US120.txt`), con una población de 32 individuos y 500 iteraciones.\n",
    "\n",
    "\n",
    "Si no te convergiera, prueba a extender el número de iteraciones o variar parámetros como la probabilidad de mutación.\n",
    "\n"
   ]
  },
  {
   "cell_type": "markdown",
   "id": "a981c2f1",
   "metadata": {},
   "source": [
    "❓ **Pregunta 1**. Explica brevemente los detalles relevantes de tu código para entender tu implementación (p.ej., estructura de tu código, funciones, implementación de operadores, etc.). ¿Cuál es el mecanismo de selección escogido para tu implementación? Explica también cómo has verificado tu implementación."
   ]
  },
  {
   "cell_type": "markdown",
   "id": "beb24520",
   "metadata": {},
   "source": [
    "## P3.2: Laboratorio"
   ]
  },
  {
   "cell_type": "markdown",
   "id": "0debc616",
   "metadata": {},
   "source": [
    "Como toda metaheurística, resulta crucial conocer cómo afecta en términos prácticos los parámetros\n",
    "del algoritmo y los operadores desarrollados. Estudia el comportamiento del algoritmo implementado para resolver VC atendiendo a las siguientes cuestiones.\n"
   ]
  },
  {
   "cell_type": "markdown",
   "id": "7514536e",
   "metadata": {},
   "source": [
    "❓ **Pregunta 2**. Realiza el estudio de la calidad de la solución variando el tamaño de la población: 1, 2, 4, 8, 16, 32, 64... ¿Qué valor recomendarías para el problema de las 120 ciudades? ¿Por qué? Ten en cuenta que tienes dos variantes del mecanismo de reemplazo.\n",
    "\n",
    "❓ **Pregunta 3**. Ahora realiza un estudio similar variando la probabilidad de mutación en el rango 0, ..., 0.95 en pasos de 0.05~0.10. ¿Qué valor recomendarías para este parámetro? ¿Por qué? Ten en cuenta que tienes dos variantes del mecanismo de mutación.\n",
    "\n",
    "❓ **Pregunta 4**. Finalmente realiza un estudio variando el número de iteraciones máximas en el rango de 50 a 1000, considerando un paso variable o adaptativo a conveniencia. ¿Qué valor recomendarías para este parámetro? ¿Por qué? Realiza una discusión reflexionando sobre los resultados conjuntos de estos tres parámetros. \n",
    "\n",
    "Apoya todas tus respuestas en datos-gráficos resultantes de tus estudios.\n",
    "\n",
    "Importante: además de la calidad de la soluciones obtenidas, se recomienda medir tiempos para tomar medidas operativas sobre el número de repeticiones que permitan realizar promedios (se recomienda no más de 10 si se ralentiza mucho) y prescindir de manera razonada de valores en las series de ejecución que no sean computacionalmente rentables/viables con tu implementación/ordenador (p.ej., tamaños de población elevados pueden tomar mucho tiempo para resolver).\n",
    "\n",
    "\n",
    "\n",
    "\n"
   ]
  },
  {
   "cell_type": "markdown",
   "id": "82f11936",
   "metadata": {},
   "source": [
    "\n",
    "# Respuestas al cuestionario\n",
    "\n",
    "## P3.1: Implementación básica\n",
    "\n",
    "### Pregunta 1"
   ]
  },
  {
   "cell_type": "markdown",
   "id": "c3c945b6",
   "metadata": {},
   "source": [
    "#### CÓDIGO"
   ]
  },
  {
   "cell_type": "code",
   "execution_count": 140,
   "id": "69e2a25c",
   "metadata": {},
   "outputs": [],
   "source": [
    "#función de coste, parámetros: solución y el conjunto de ciudades\n",
    "def coste(solucion, g):\n",
    "    coste=0\n",
    "    solucion_aux=[0]+solucion+[0]\n",
    "    for i in range(len(solucion_aux)-1):\n",
    "        coste+=g.distancia(solucion_aux[i],solucion_aux[i+1])\n",
    "    return coste"
   ]
  },
  {
   "cell_type": "code",
   "execution_count": 141,
   "id": "3241a3c8",
   "metadata": {},
   "outputs": [],
   "source": [
    "def genera_solucion_inicial(g):\n",
    "    solucion=[x for x in range(1,g.nciudades)]\n",
    "    random.shuffle(solucion)\n",
    "    return solucion"
   ]
  },
  {
   "cell_type": "code",
   "execution_count": 142,
   "id": "3a0c4dd0",
   "metadata": {},
   "outputs": [],
   "source": [
    "#funcion que devuelve una poblacion de tamaño npoblacion ordenado según su coste\n",
    "def generar_poblacion_inicial(g,npoblacion, genera_solucion_inicial):\n",
    "    par_poblacion=[]\n",
    "    for i in range(npoblacion):\n",
    "        auxiliar=genera_solucion_inicial(g)\n",
    "        par_poblacion.append((auxiliar, coste(auxiliar, g)))\n",
    "    #devolvemos la poblacion ordenada según su coste\n",
    "    return sorted(par_poblacion, key=lambda x: x[1])"
   ]
  },
  {
   "cell_type": "code",
   "execution_count": 143,
   "id": "f86f691d",
   "metadata": {},
   "outputs": [],
   "source": [
    "def auxiliar_Cruce(indice0, indice1, cromosoma1, cromosoma2):\n",
    "    numeros=[cromosoma1[x] for x in range(indice0, indice1+1)]\n",
    "    primer_cruce=numeros.copy()\n",
    "    i=indice1+1 # indice para saber posición de recorrido en cromosoma2\n",
    "    j=indice1+1 # indice posición actual de cromosoma primer_cruce\n",
    "    if(j==len(cromosoma1)):\n",
    "        j=0\n",
    "        i=0\n",
    "    while(len(primer_cruce)!= len(cromosoma1)):\n",
    "        if cromosoma2[i] not in  numeros:\n",
    "            primer_cruce.insert(j,cromosoma2[i])\n",
    "            j+=1\n",
    "            if(j==len(cromosoma1)):\n",
    "                j=0\n",
    "            \n",
    "        if(i==len(cromosoma1)-1):\n",
    "            i=0\n",
    "        else:\n",
    "            i+=1\n",
    "    return primer_cruce"
   ]
  },
  {
   "cell_type": "code",
   "execution_count": 144,
   "id": "3596d225",
   "metadata": {},
   "outputs": [],
   "source": [
    "def cruce_Order_Crossover(indice0, indice1, cromosoma1, cromosoma2,probabilidad=0.95):\n",
    "    if(random.uniform(0,1)<probabilidad):\n",
    "        return cromosoma1,cromosoma2\n",
    "    indice0=random.randint(0, len(cromosoma1)-1)\n",
    "    indice1=indice0\n",
    "    while(indice0==indice1):\n",
    "        indice1=random.randint(0, len(cromosoma1)-1)\n",
    "   \n",
    "    if(indice0 >indice1):\n",
    "        indice0, indice1= indice1, indice0\n",
    "        \n",
    "    return auxiliar_Cruce(indice0, indice1, cromosoma1, cromosoma2), auxiliar_Cruce(indice0, indice1,  cromosoma2,cromosoma1)"
   ]
  },
  {
   "cell_type": "code",
   "execution_count": 145,
   "id": "9a0ba33a",
   "metadata": {},
   "outputs": [],
   "source": [
    "def mutacion_individual(cromosoma, indice0, pm=0.25):\n",
    "    if(random.uniform(0,1)>pm):\n",
    "        return cromosoma\n",
    "    indice0=random.randint(0, len(cromosoma)-1)\n",
    "    aleatorio=indice0\n",
    "    while aleatorio==indice0:\n",
    "        aleatorio=random.randint(0, len(cromosoma)-1)\n",
    "    nuevo=cromosoma.copy()\n",
    "    nuevo[aleatorio], nuevo[indice0]=nuevo[indice0], nuevo[aleatorio]\n",
    "    return nuevo\n",
    "    \n",
    "def mutacion_cromosomica(cromosoma, indice0, pm=0.01):\n",
    "    nuevo=cromosoma.copy()\n",
    "    for i in range(len(cromosoma)):\n",
    "        nuevo= mutacion_individual(nuevo, i, pm)   \n",
    "    return nuevo"
   ]
  },
  {
   "cell_type": "code",
   "execution_count": 146,
   "id": "94831e82",
   "metadata": {},
   "outputs": [],
   "source": [
    "def auxiliar_par_soluciones(poblacion,g):\n",
    "\n",
    "    return sorted(poblacion, key=lambda x: x[1])"
   ]
  },
  {
   "cell_type": "code",
   "execution_count": 147,
   "id": "d7cdc6a2",
   "metadata": {
    "scrolled": true
   },
   "outputs": [],
   "source": [
    "def reemplazo_mitad(ancestros, hijos,g,elite=-1):\n",
    "    par_ancestros=auxiliar_par_soluciones(ancestros, g)\n",
    "    par_hijos=auxiliar_par_soluciones(hijos, g)\n",
    "    mitad= len(ancestros)/2\n",
    "    poblacion_resultante=par_ancestros[0:int(mitad)]\n",
    "    poblacion_resultante+=par_hijos[0:int(mitad)]\n",
    "    return sorted(poblacion_resultante, key=lambda x: x[1])\n",
    "    \n",
    "    \n",
    "    \n",
    "def reemplazo_elitismo(ancestros, hijos,g, elite=2):\n",
    "    par_ancestros=auxiliar_par_soluciones(ancestros, g)\n",
    "    par_hijos=auxiliar_par_soluciones(hijos, g)\n",
    "    poblacion_resultante=ancestros[0:elite]\n",
    "    poblacion_resultante+=hijos[0:len(ancestros)-elite]\n",
    "    return sorted(poblacion_resultante, key=lambda x: x[1])\n"
   ]
  },
  {
   "cell_type": "code",
   "execution_count": 148,
   "id": "4e6faaae",
   "metadata": {},
   "outputs": [],
   "source": [
    "def aux_seleccion_padres(padres):\n",
    "    seleccion=random.uniform(0,1)\n",
    "    aux=0\n",
    "    padre1=padres[0]\n",
    "    for i in padres:\n",
    "        probabilidad=(1/2**(aux+1))\n",
    "        if(seleccion> probabilidad):\n",
    "            padre1=padres[aux]\n",
    "            break\n",
    "        aux+=1\n",
    "    padres.remove(padre1)\n",
    "    return padre1[0]"
   ]
  },
  {
   "cell_type": "code",
   "execution_count": 149,
   "id": "ce38467f",
   "metadata": {},
   "outputs": [],
   "source": [
    "def seleccion_padres(padres):\n",
    "    return aux_seleccion_padres(padres), aux_seleccion_padres(padres) "
   ]
  },
  {
   "cell_type": "code",
   "execution_count": 150,
   "id": "4e71d8c1",
   "metadata": {},
   "outputs": [],
   "source": [
    "def algoritmo_genetico_vc(g,tpoblacion, iteraciones, mutacion=mutacion_individual,reemplazo=reemplazo_mitad, probabilidad_mutacion=0.25):\n",
    "    poblacion=generar_poblacion_inicial(g,tpoblacion, genera_solucion_inicial)\n",
    "    mejores=[]\n",
    "    indice0=0\n",
    "    indice1=0\n",
    "    a=0\n",
    "    for i in range(iteraciones ):\n",
    "        padres = poblacion.copy()\n",
    "        a+=1\n",
    "        generacion_intermedia=[]\n",
    "        \n",
    "        while(len(padres)!=0):\n",
    "            p1, p2 = seleccion_padres(padres)\n",
    "           \n",
    "            aux = cruce_Order_Crossover(indice0, indice1, p1, p2)\n",
    "            \n",
    "            \n",
    "            #mutamos os cromosomas resultantes\n",
    "            aux1=(mutacion(aux[0], -1,probabilidad_mutacion))\n",
    "            aux2=(mutacion(aux[1],-1,probabilidad_mutacion))\n",
    "            #anadimolos a funcion intermedia\n",
    "            generacion_intermedia.append((aux1, coste(aux1,g)))\n",
    "            generacion_intermedia.append((aux2, coste(aux2,g)))\n",
    "        #remplazamos a poblacion actual pola intermedia\n",
    "        poblacion=reemplazo(poblacion,generacion_intermedia, g)\n",
    "        \n",
    "    return (sorted(poblacion, key=lambda x: x[1]))[0]"
   ]
  },
  {
   "cell_type": "code",
   "execution_count": 161,
   "id": "daf1dc31",
   "metadata": {
    "scrolled": true
   },
   "outputs": [
    {
     "data": {
      "text/plain": [
       "78092.77495597916"
      ]
     },
     "execution_count": 161,
     "metadata": {},
     "output_type": "execute_result"
    }
   ],
   "source": [
    "algoritmo_genetico_vc(g2,32,500)[1]"
   ]
  },
  {
   "cell_type": "code",
   "execution_count": 167,
   "id": "8f1c5bf1",
   "metadata": {
    "scrolled": true
   },
   "outputs": [
    {
     "data": {
      "text/plain": [
       "([3, 4, 5, 6, 7, 2, 1], 503.9384936166176)"
      ]
     },
     "execution_count": 167,
     "metadata": {},
     "output_type": "execute_result"
    }
   ],
   "source": [
    "algoritmo_genetico_vc(g1,2,150)\n"
   ]
  },
  {
   "cell_type": "markdown",
   "id": "1bd7664d",
   "metadata": {},
   "source": [
    "#### DETALLES DE IMPLEMENTACIÓN"
   ]
  },
  {
   "cell_type": "markdown",
   "id": "27730a7e",
   "metadata": {},
   "source": [
    "A solución codifícase nun array de xeito que os índices indique a posición na que van  a ser recorridos e o interior a cidade que é. A solución devolta non inclúe a cidade inicial nin o remate da mesma.\n",
    "O código estructurouse en 6 funcións principais:\n",
    "* **generar_poblacion_inicial**: dado un conxunto de cidades g, un tamaño de población(tpoblacion) xera unha población de tpoblacion solucións empregando a función que se lle pasa como terceiro parámetro. As solucións individuais xéranse de forma aleatoria. Devolve unha lista ordenada por custe\n",
    "\n",
    "\n",
    "\n",
    "* **seleccion_padres**: elixe os pais que se van a cruzar de xeito que se lle dá máis probabilidade de cruze aos de menor custe. Ordenanse as solucións en función do seu custe asignandolle unha probabilidade de 1/(2^posición-1). Deste xeito o primeiro terá unha probabilidade de 0.5, o segundo de 0.25, o terceiro de 0.125... A función acepta como parámetro o conxunto de pais que se poden seleccionar.\n",
    "\n",
    "\n",
    "\n",
    "\n",
    "* **cruce_Order_Crossover**: realiza o cruce dos dous pais e devolve os dous fillos posibles. Débeselle pasar os índices de cruce e os dous cromosomas pais a cruzar.\n",
    "\n",
    "\n",
    "\n",
    "\n",
    "* **mutacion**: función de mutación que realiza un intercambio de posicións dados os dous índices de cambio. Esta mutación solo se realizará cunha probabilidad que se parametrizará coa variable de perobabilidad_mutacion. Para esta función implementaronse dúas estratexias. Por un lado, unha mutación cromosómica e por outra unha individual.\n",
    "\n",
    "\n",
    "\n",
    "\n",
    "* función de **reemplazo**: realizarase a nova xeración a partir dos pais e da xeración intermedia. Seguironse dúas implementacións. Por un lado, un remplazo elitista, nos que se manterían un número determinados dos mellores pais e o resto completaríase cos mellores fillos. Por outra banda, o reemplazo por mitads, hnas que se collería a metade dos mellores pais e a metade dos mellores fillos. Devolve unha lista ordenada por custe\n",
    "\n",
    "\n",
    "\n",
    "\n",
    "* Función do **algoritmo xenético base**: algoritmo xenetico base que realiza chamadas as funcións descritas con anterioridade. Acepta os parámetros que será necesario variar para o laboratorio posterior\n",
    "\n",
    "\n",
    "\n",
    "\n",
    "Para comprobar o correcto funcionamento obtouse por probar de xeito separado as funcions, por exemplo, no caso da función de cruce fixaronse dous cromosomas crearonse probas introducindo unha probabilidade=1 e varios índices. Deste xeito sabemos que funciona de forma correcta. Probas similares a esta foron realizadas para o resto de funcións."
   ]
  },
  {
   "cell_type": "markdown",
   "id": "653f0087",
   "metadata": {},
   "source": [
    "## P3.2: Laboratorio\n",
    "\n",
    "### Pregunta 2 (1.5 puntos)\n",
    "\n"
   ]
  },
  {
   "cell_type": "code",
   "execution_count": 168,
   "id": "40cae079",
   "metadata": {
    "scrolled": true
   },
   "outputs": [
    {
     "data": {
      "application/vnd.jupyter.widget-view+json": {
       "model_id": "598d81fb1a0e46bfbc4decd8a7c0dc15",
       "version_major": 2,
       "version_minor": 0
      },
      "text/plain": [
       "Progreso de tamanhos:   0%|          | 0/8 [00:00<?, ?it/s]"
      ]
     },
     "metadata": {},
     "output_type": "display_data"
    },
    {
     "data": {
      "application/vnd.jupyter.widget-view+json": {
       "model_id": "b6ad9a04cb0d470aa67969ba5fbea3ad",
       "version_major": 2,
       "version_minor": 0
      },
      "text/plain": [
       "iteracion:   0%|          | 0/10 [00:00<?, ?it/s]"
      ]
     },
     "metadata": {},
     "output_type": "display_data"
    },
    {
     "data": {
      "application/vnd.jupyter.widget-view+json": {
       "model_id": "08a0e7635f9b44319716e171840cda16",
       "version_major": 2,
       "version_minor": 0
      },
      "text/plain": [
       "iteracion:   0%|          | 0/10 [00:00<?, ?it/s]"
      ]
     },
     "metadata": {},
     "output_type": "display_data"
    },
    {
     "data": {
      "application/vnd.jupyter.widget-view+json": {
       "model_id": "68053f0be27f4670ad7ea03133625dd5",
       "version_major": 2,
       "version_minor": 0
      },
      "text/plain": [
       "iteracion:   0%|          | 0/10 [00:00<?, ?it/s]"
      ]
     },
     "metadata": {},
     "output_type": "display_data"
    },
    {
     "data": {
      "application/vnd.jupyter.widget-view+json": {
       "model_id": "541874d372bc4f5abe5c1aa17b63f53a",
       "version_major": 2,
       "version_minor": 0
      },
      "text/plain": [
       "iteracion:   0%|          | 0/10 [00:00<?, ?it/s]"
      ]
     },
     "metadata": {},
     "output_type": "display_data"
    },
    {
     "data": {
      "application/vnd.jupyter.widget-view+json": {
       "model_id": "f1a8d16711724cac8f8d968e474eb624",
       "version_major": 2,
       "version_minor": 0
      },
      "text/plain": [
       "iteracion:   0%|          | 0/10 [00:00<?, ?it/s]"
      ]
     },
     "metadata": {},
     "output_type": "display_data"
    },
    {
     "data": {
      "application/vnd.jupyter.widget-view+json": {
       "model_id": "26f3ec49e0d34d60b5b17e6667740f41",
       "version_major": 2,
       "version_minor": 0
      },
      "text/plain": [
       "iteracion:   0%|          | 0/10 [00:00<?, ?it/s]"
      ]
     },
     "metadata": {},
     "output_type": "display_data"
    },
    {
     "data": {
      "application/vnd.jupyter.widget-view+json": {
       "model_id": "37212934662f4752968a3fa4e2df5bee",
       "version_major": 2,
       "version_minor": 0
      },
      "text/plain": [
       "iteracion:   0%|          | 0/10 [00:00<?, ?it/s]"
      ]
     },
     "metadata": {},
     "output_type": "display_data"
    },
    {
     "data": {
      "application/vnd.jupyter.widget-view+json": {
       "model_id": "5e8fbd9386e3476897df6b09957c47d8",
       "version_major": 2,
       "version_minor": 0
      },
      "text/plain": [
       "iteracion:   0%|          | 0/10 [00:00<?, ?it/s]"
      ]
     },
     "metadata": {},
     "output_type": "display_data"
    },
    {
     "name": "stdout",
     "output_type": "stream",
     "text": [
      "[(2, 124189.73167202374), (4, 106930.5154522288), (8, 92801.40217431019), (16, 81438.47463566429), (32, 76653.74695226074), (64, 70142.59646683715), (128, 66710.27894739484), (256, 64403.08877908376)]\n"
     ]
    },
    {
     "data": {
      "application/vnd.jupyter.widget-view+json": {
       "model_id": "7f75864b34ce4da486d8db06418bb8e5",
       "version_major": 2,
       "version_minor": 0
      },
      "text/plain": [
       "Progreso de tamanhos:   0%|          | 0/8 [00:00<?, ?it/s]"
      ]
     },
     "metadata": {},
     "output_type": "display_data"
    },
    {
     "data": {
      "application/vnd.jupyter.widget-view+json": {
       "model_id": "68e2fd67a6544033b4761c5194f04b62",
       "version_major": 2,
       "version_minor": 0
      },
      "text/plain": [
       "iteracion:   0%|          | 0/10 [00:00<?, ?it/s]"
      ]
     },
     "metadata": {},
     "output_type": "display_data"
    },
    {
     "data": {
      "application/vnd.jupyter.widget-view+json": {
       "model_id": "9fd48f8e9aa64d738af31d28170853b7",
       "version_major": 2,
       "version_minor": 0
      },
      "text/plain": [
       "iteracion:   0%|          | 0/10 [00:00<?, ?it/s]"
      ]
     },
     "metadata": {},
     "output_type": "display_data"
    },
    {
     "data": {
      "application/vnd.jupyter.widget-view+json": {
       "model_id": "fef7e3fe373e4304b2d10f7b8b12b301",
       "version_major": 2,
       "version_minor": 0
      },
      "text/plain": [
       "iteracion:   0%|          | 0/10 [00:00<?, ?it/s]"
      ]
     },
     "metadata": {},
     "output_type": "display_data"
    },
    {
     "data": {
      "application/vnd.jupyter.widget-view+json": {
       "model_id": "fc509e705a6048a8aed974d0a9009b05",
       "version_major": 2,
       "version_minor": 0
      },
      "text/plain": [
       "iteracion:   0%|          | 0/10 [00:00<?, ?it/s]"
      ]
     },
     "metadata": {},
     "output_type": "display_data"
    },
    {
     "data": {
      "application/vnd.jupyter.widget-view+json": {
       "model_id": "5bbe0537017d4533ab1d06a031b5e7a6",
       "version_major": 2,
       "version_minor": 0
      },
      "text/plain": [
       "iteracion:   0%|          | 0/10 [00:00<?, ?it/s]"
      ]
     },
     "metadata": {},
     "output_type": "display_data"
    },
    {
     "data": {
      "application/vnd.jupyter.widget-view+json": {
       "model_id": "1cb2e32f2c3e425089cabe2b5dc6b4b9",
       "version_major": 2,
       "version_minor": 0
      },
      "text/plain": [
       "iteracion:   0%|          | 0/10 [00:00<?, ?it/s]"
      ]
     },
     "metadata": {},
     "output_type": "display_data"
    },
    {
     "data": {
      "application/vnd.jupyter.widget-view+json": {
       "model_id": "1980855add084859a5f6b06e2dedc4de",
       "version_major": 2,
       "version_minor": 0
      },
      "text/plain": [
       "iteracion:   0%|          | 0/10 [00:00<?, ?it/s]"
      ]
     },
     "metadata": {},
     "output_type": "display_data"
    },
    {
     "data": {
      "application/vnd.jupyter.widget-view+json": {
       "model_id": "7b8ba265aeed4fadb0c6495084b17caa",
       "version_major": 2,
       "version_minor": 0
      },
      "text/plain": [
       "iteracion:   0%|          | 0/10 [00:00<?, ?it/s]"
      ]
     },
     "metadata": {},
     "output_type": "display_data"
    },
    {
     "name": "stdout",
     "output_type": "stream",
     "text": [
      "[(2, 184194.40659470932), (4, 123000.90047814153), (8, 98913.60210226031), (16, 88279.52732318043), (32, 88455.81741619526), (64, 89389.92080564382), (128, 90170.82772679582), (256, 88038.42305614261)]\n"
     ]
    }
   ],
   "source": [
    "\n",
    "tam_poblacion= [2, 4, 8, 16, 32, 64, 128, 256]\n",
    "respuesta=[]\n",
    "res=0.0\n",
    "for t in trange(len(tam_poblacion),desc='Progreso de tamanhos'):\n",
    "    for j in trange(10, desc='iteracion'):\n",
    "        res+=(algoritmo_genetico_vc(g2,tam_poblacion[t],500))[1]\n",
    "    respuesta.append((tam_poblacion[t],res/10))\n",
    "    res=0\n",
    "print(respuesta)\n",
    "\n",
    "respuesta_2=[]\n",
    "res=0.0\n",
    "for t in trange(len(tam_poblacion),desc='Progreso de tamanhos'):\n",
    "    for j in trange(10, desc='iteracion'):\n",
    "        res+=(algoritmo_genetico_vc(g2,tam_poblacion[t],500,reemplazo=reemplazo_elitismo))[1]\n",
    "    respuesta_2.append((tam_poblacion[t],res/10))\n",
    "    res=0\n",
    "print(respuesta_2)\n",
    "\n",
    "\n"
   ]
  },
  {
   "cell_type": "markdown",
   "id": "bb2ae661",
   "metadata": {},
   "source": [
    "Para ver de forma máis clara o resultado das prácticas vamos a representar os resultados anteriores nunha gráfica comparativa\n"
   ]
  },
  {
   "cell_type": "code",
   "execution_count": 169,
   "id": "04c51914",
   "metadata": {},
   "outputs": [
    {
     "data": {
      "image/png": "[encoded data removed]",
      "text/plain": [
       "<Figure size 432x288 with 1 Axes>"
      ]
     },
     "metadata": {
      "needs_background": "light"
     },
     "output_type": "display_data"
    }
   ],
   "source": [
    "import matplotlib.pyplot as plt\n",
    "plt.plot(*zip(*respuesta))\n",
    "plt.plot(*zip(*respuesta_2))\n",
    "\n",
    "plt.show()\n",
    "    "
   ]
  },
  {
   "cell_type": "markdown",
   "id": "220d3b42",
   "metadata": {},
   "source": [
    " Para este estudo realizaronse 10 medidas por cada unha das combinacións para diminuir así o impacto da aletoriedade. No eixo vertical represéntase o custo mentres que no horizontal móstrase o tamaño da poboación. Además, decidiuse fixar a mutación en mutación individual(xa que se estima que é a que mellor resultados dará) e élite en 2 para realizar as probas.\n",
    " \n",
    " O remplazo elitista é representado pola liña en cor laranxa. Podemos apreciar como sigue unha tendencia a baixa para os tamaños de poboación pequenos. Pódese apreciar como para n=4 o valor do custo é prácticamente o igual que co remplazo por metades xa que,  neste caso, sería o mesmo calquera unha das implementacións (colleríanse os 2 mellores pais, que cadra coa metade da poboación). É de esperar que para tamaños maiores a 4 o custo que se atopa se estanque, xa que se estaría reemplazando a nova xeración de pais pola xerada no cruce da execución anterior de forma case total. No gráfico anterior podemos ver como isto é así de tal xeito que se estanca no custo de 100000.\n",
    " \n",
    " Por outra banda, representouse coa cor azul o remplazo por metades. Neste caso vemos como ao aumentar o tamaño o custo redúcese de forma paulatina (asintóticamente) e non se manten.Isto é debido a que, con este remplazo, o tamaño influe e non se queda fixado como ocorría no remplazo elitista. \n",
    " \n",
    " En xeral, os mellores resultados obtivéronse co reemplazo por metades empregando un tempo de execución similar ao reemplazo elitista xa que tempo que tarda o algoritmo ven determinado polo tamaño da poblacion coa que se traballe nas xeracións. Por iso é importante chegar a un axuste entre boa solución e tempo, polo que se empregará o mecanismo do cóbado para fixar o tamaño da poboación coa que se farán os seguintes experimentos. Na gráfica vemos como este punto estaría en N=32 ou N=64. (neste caso traballarase coa poboación de 32)"
   ]
  },
  {
   "cell_type": "markdown",
   "id": "b071b5c7",
   "metadata": {},
   "source": [
    "### Pregunta 3 (1.5 puntos)\n",
    "\n"
   ]
  },
  {
   "cell_type": "markdown",
   "id": "4bdcf84e",
   "metadata": {},
   "source": [
    "Ahora realiza un estudio similar variando la probabilidad de mutación en el rango 0, ..., 0.95 en pasos de 0.05~0.10. ¿Qué valor recomendarías para este parámetro? ¿Por qué? Ten en cuenta que tienes dos variantes del mecanismo de mutación."
   ]
  },
  {
   "cell_type": "code",
   "execution_count": 170,
   "id": "07ea618a",
   "metadata": {},
   "outputs": [
    {
     "name": "stdout",
     "output_type": "stream",
     "text": [
      "[0.0, 0.05, 0.1, 0.15, 0.2, 0.25, 0.3, 0.35, 0.4, 0.45, 0.5, 0.55, 0.6, 0.65, 0.7, 0.75, 0.8, 0.85, 0.9, 0.95]\n"
     ]
    }
   ],
   "source": [
    "probab_mutacion=[x/100 for x in range(0,100, 5)]\n",
    "print(probab_mutacion)\n"
   ]
  },
  {
   "cell_type": "code",
   "execution_count": 171,
   "id": "838b2f6b",
   "metadata": {},
   "outputs": [
    {
     "name": "stdout",
     "output_type": "stream",
     "text": [
      "EJECUCIONES DEPENDIENDO DE LA PROBABILIDAD DE MUTACIÓN\n"
     ]
    },
    {
     "data": {
      "application/vnd.jupyter.widget-view+json": {
       "model_id": "6e18a6040ed74c1f8237180b97de4ac0",
       "version_major": 2,
       "version_minor": 0
      },
      "text/plain": [
       "Progreso de tamanhos:   0%|          | 0/20 [00:00<?, ?it/s]"
      ]
     },
     "metadata": {},
     "output_type": "display_data"
    },
    {
     "data": {
      "application/vnd.jupyter.widget-view+json": {
       "model_id": "993f906806734a6f8b84cc58861b19df",
       "version_major": 2,
       "version_minor": 0
      },
      "text/plain": [
       "iteracion:   0%|          | 0/50 [00:00<?, ?it/s]"
      ]
     },
     "metadata": {},
     "output_type": "display_data"
    },
    {
     "data": {
      "application/vnd.jupyter.widget-view+json": {
       "model_id": "3631d328aae345c48dffbd09e4af4924",
       "version_major": 2,
       "version_minor": 0
      },
      "text/plain": [
       "iteracion:   0%|          | 0/50 [00:00<?, ?it/s]"
      ]
     },
     "metadata": {},
     "output_type": "display_data"
    },
    {
     "data": {
      "application/vnd.jupyter.widget-view+json": {
       "model_id": "8a5417fa89964a6d96c32d4ad5f2806c",
       "version_major": 2,
       "version_minor": 0
      },
      "text/plain": [
       "iteracion:   0%|          | 0/50 [00:00<?, ?it/s]"
      ]
     },
     "metadata": {},
     "output_type": "display_data"
    },
    {
     "data": {
      "application/vnd.jupyter.widget-view+json": {
       "model_id": "238e458befc6428c8d7747ac627a1ec5",
       "version_major": 2,
       "version_minor": 0
      },
      "text/plain": [
       "iteracion:   0%|          | 0/50 [00:00<?, ?it/s]"
      ]
     },
     "metadata": {},
     "output_type": "display_data"
    },
    {
     "data": {
      "application/vnd.jupyter.widget-view+json": {
       "model_id": "bca0a4ac7159474abe38757f290ce690",
       "version_major": 2,
       "version_minor": 0
      },
      "text/plain": [
       "iteracion:   0%|          | 0/50 [00:00<?, ?it/s]"
      ]
     },
     "metadata": {},
     "output_type": "display_data"
    },
    {
     "data": {
      "application/vnd.jupyter.widget-view+json": {
       "model_id": "c45cb91c1ebf487986478955bd5ff224",
       "version_major": 2,
       "version_minor": 0
      },
      "text/plain": [
       "iteracion:   0%|          | 0/50 [00:00<?, ?it/s]"
      ]
     },
     "metadata": {},
     "output_type": "display_data"
    },
    {
     "data": {
      "application/vnd.jupyter.widget-view+json": {
       "model_id": "da3085e93a2848c9ada33e7abc41133a",
       "version_major": 2,
       "version_minor": 0
      },
      "text/plain": [
       "iteracion:   0%|          | 0/50 [00:00<?, ?it/s]"
      ]
     },
     "metadata": {},
     "output_type": "display_data"
    },
    {
     "data": {
      "application/vnd.jupyter.widget-view+json": {
       "model_id": "ea171f28c8bf4bfc8390b88155452bdc",
       "version_major": 2,
       "version_minor": 0
      },
      "text/plain": [
       "iteracion:   0%|          | 0/50 [00:00<?, ?it/s]"
      ]
     },
     "metadata": {},
     "output_type": "display_data"
    },
    {
     "data": {
      "application/vnd.jupyter.widget-view+json": {
       "model_id": "cbeabb81543c4157a5ad247b02f77c12",
       "version_major": 2,
       "version_minor": 0
      },
      "text/plain": [
       "iteracion:   0%|          | 0/50 [00:00<?, ?it/s]"
      ]
     },
     "metadata": {},
     "output_type": "display_data"
    },
    {
     "data": {
      "application/vnd.jupyter.widget-view+json": {
       "model_id": "78a7150dde6c4954867ed7a6664a13fa",
       "version_major": 2,
       "version_minor": 0
      },
      "text/plain": [
       "iteracion:   0%|          | 0/50 [00:00<?, ?it/s]"
      ]
     },
     "metadata": {},
     "output_type": "display_data"
    },
    {
     "data": {
      "application/vnd.jupyter.widget-view+json": {
       "model_id": "b2af65c13f694f719e32ed3e5c44e75f",
       "version_major": 2,
       "version_minor": 0
      },
      "text/plain": [
       "iteracion:   0%|          | 0/50 [00:00<?, ?it/s]"
      ]
     },
     "metadata": {},
     "output_type": "display_data"
    },
    {
     "data": {
      "application/vnd.jupyter.widget-view+json": {
       "model_id": "319e4710e3644f7dad78d4e51839ef1d",
       "version_major": 2,
       "version_minor": 0
      },
      "text/plain": [
       "iteracion:   0%|          | 0/50 [00:00<?, ?it/s]"
      ]
     },
     "metadata": {},
     "output_type": "display_data"
    },
    {
     "data": {
      "application/vnd.jupyter.widget-view+json": {
       "model_id": "0fe7a834b3f04f0a9f9c9377e0c51ca9",
       "version_major": 2,
       "version_minor": 0
      },
      "text/plain": [
       "iteracion:   0%|          | 0/50 [00:00<?, ?it/s]"
      ]
     },
     "metadata": {},
     "output_type": "display_data"
    },
    {
     "data": {
      "application/vnd.jupyter.widget-view+json": {
       "model_id": "4a6afa27e78a452399dfb30943af2ce9",
       "version_major": 2,
       "version_minor": 0
      },
      "text/plain": [
       "iteracion:   0%|          | 0/50 [00:00<?, ?it/s]"
      ]
     },
     "metadata": {},
     "output_type": "display_data"
    },
    {
     "data": {
      "application/vnd.jupyter.widget-view+json": {
       "model_id": "65890f2c7dda4cd2885a4997ec77e0f8",
       "version_major": 2,
       "version_minor": 0
      },
      "text/plain": [
       "iteracion:   0%|          | 0/50 [00:00<?, ?it/s]"
      ]
     },
     "metadata": {},
     "output_type": "display_data"
    },
    {
     "data": {
      "application/vnd.jupyter.widget-view+json": {
       "model_id": "04ab7a756da9451c8c11b78abb6847c5",
       "version_major": 2,
       "version_minor": 0
      },
      "text/plain": [
       "iteracion:   0%|          | 0/50 [00:00<?, ?it/s]"
      ]
     },
     "metadata": {},
     "output_type": "display_data"
    },
    {
     "data": {
      "application/vnd.jupyter.widget-view+json": {
       "model_id": "9ab81341737043868c62ff97358a6a6f",
       "version_major": 2,
       "version_minor": 0
      },
      "text/plain": [
       "iteracion:   0%|          | 0/50 [00:00<?, ?it/s]"
      ]
     },
     "metadata": {},
     "output_type": "display_data"
    },
    {
     "data": {
      "application/vnd.jupyter.widget-view+json": {
       "model_id": "3a751bf5a9d84169810c422709fb5891",
       "version_major": 2,
       "version_minor": 0
      },
      "text/plain": [
       "iteracion:   0%|          | 0/50 [00:00<?, ?it/s]"
      ]
     },
     "metadata": {},
     "output_type": "display_data"
    },
    {
     "data": {
      "application/vnd.jupyter.widget-view+json": {
       "model_id": "cfbad2dc9d064e04b84f928e258e7e66",
       "version_major": 2,
       "version_minor": 0
      },
      "text/plain": [
       "iteracion:   0%|          | 0/50 [00:00<?, ?it/s]"
      ]
     },
     "metadata": {},
     "output_type": "display_data"
    },
    {
     "data": {
      "application/vnd.jupyter.widget-view+json": {
       "model_id": "dbb9d6f2b9994f8aa01891a2f72175a8",
       "version_major": 2,
       "version_minor": 0
      },
      "text/plain": [
       "iteracion:   0%|          | 0/50 [00:00<?, ?it/s]"
      ]
     },
     "metadata": {},
     "output_type": "display_data"
    },
    {
     "name": "stdout",
     "output_type": "stream",
     "text": [
      "[(0.0, 169198.90008938397), (0.05, 103734.56132470623), (0.1, 121862.76544722513), (0.15, 131694.16683706263), (0.2, 137485.30652716462), (0.25, 142338.03544357844), (0.3, 145455.92068691275), (0.35, 147611.07280927643), (0.4, 148790.62600629881), (0.45, 150733.41925541914), (0.5, 151119.69619531522), (0.55, 151566.17828153417), (0.6, 151260.65384350307), (0.65, 153549.91359924283), (0.7, 153509.6009410886), (0.75, 153142.02792796463), (0.8, 153610.62627256586), (0.85, 153546.48987593307), (0.9, 154093.06702570847), (0.95, 154146.9875414899)]\n"
     ]
    },
    {
     "data": {
      "application/vnd.jupyter.widget-view+json": {
       "model_id": "39c420ade1674f42bfe381a2701eef12",
       "version_major": 2,
       "version_minor": 0
      },
      "text/plain": [
       "Progreso de tamanhos:   0%|          | 0/20 [00:00<?, ?it/s]"
      ]
     },
     "metadata": {},
     "output_type": "display_data"
    },
    {
     "data": {
      "application/vnd.jupyter.widget-view+json": {
       "model_id": "fbdbb4e253db4116b8b368793244d97b",
       "version_major": 2,
       "version_minor": 0
      },
      "text/plain": [
       "iteracion:   0%|          | 0/50 [00:00<?, ?it/s]"
      ]
     },
     "metadata": {},
     "output_type": "display_data"
    },
    {
     "data": {
      "application/vnd.jupyter.widget-view+json": {
       "model_id": "abe59354acda4447920eb9bf8d8d6273",
       "version_major": 2,
       "version_minor": 0
      },
      "text/plain": [
       "iteracion:   0%|          | 0/50 [00:00<?, ?it/s]"
      ]
     },
     "metadata": {},
     "output_type": "display_data"
    },
    {
     "data": {
      "application/vnd.jupyter.widget-view+json": {
       "model_id": "75cea347d2eb4266bbde95625839cf47",
       "version_major": 2,
       "version_minor": 0
      },
      "text/plain": [
       "iteracion:   0%|          | 0/50 [00:00<?, ?it/s]"
      ]
     },
     "metadata": {},
     "output_type": "display_data"
    },
    {
     "data": {
      "application/vnd.jupyter.widget-view+json": {
       "model_id": "3881be2802244b3585e534a0914affc5",
       "version_major": 2,
       "version_minor": 0
      },
      "text/plain": [
       "iteracion:   0%|          | 0/50 [00:00<?, ?it/s]"
      ]
     },
     "metadata": {},
     "output_type": "display_data"
    },
    {
     "data": {
      "application/vnd.jupyter.widget-view+json": {
       "model_id": "cccc2221e9324929bf8675100ddc6d2d",
       "version_major": 2,
       "version_minor": 0
      },
      "text/plain": [
       "iteracion:   0%|          | 0/50 [00:00<?, ?it/s]"
      ]
     },
     "metadata": {},
     "output_type": "display_data"
    },
    {
     "data": {
      "application/vnd.jupyter.widget-view+json": {
       "model_id": "76689a83277f44a1b56d1dbeaf55b914",
       "version_major": 2,
       "version_minor": 0
      },
      "text/plain": [
       "iteracion:   0%|          | 0/50 [00:00<?, ?it/s]"
      ]
     },
     "metadata": {},
     "output_type": "display_data"
    },
    {
     "data": {
      "application/vnd.jupyter.widget-view+json": {
       "model_id": "637436054902407ea1f053a4383eb89b",
       "version_major": 2,
       "version_minor": 0
      },
      "text/plain": [
       "iteracion:   0%|          | 0/50 [00:00<?, ?it/s]"
      ]
     },
     "metadata": {},
     "output_type": "display_data"
    },
    {
     "data": {
      "application/vnd.jupyter.widget-view+json": {
       "model_id": "f7e55ed52a6747e0b06c18d73460a77b",
       "version_major": 2,
       "version_minor": 0
      },
      "text/plain": [
       "iteracion:   0%|          | 0/50 [00:00<?, ?it/s]"
      ]
     },
     "metadata": {},
     "output_type": "display_data"
    },
    {
     "data": {
      "application/vnd.jupyter.widget-view+json": {
       "model_id": "8149cccf785748c6ba93754e9e0684fc",
       "version_major": 2,
       "version_minor": 0
      },
      "text/plain": [
       "iteracion:   0%|          | 0/50 [00:00<?, ?it/s]"
      ]
     },
     "metadata": {},
     "output_type": "display_data"
    },
    {
     "data": {
      "application/vnd.jupyter.widget-view+json": {
       "model_id": "e3e12fc568d0471787f330a96c2d28c0",
       "version_major": 2,
       "version_minor": 0
      },
      "text/plain": [
       "iteracion:   0%|          | 0/50 [00:00<?, ?it/s]"
      ]
     },
     "metadata": {},
     "output_type": "display_data"
    },
    {
     "data": {
      "application/vnd.jupyter.widget-view+json": {
       "model_id": "497e9d4d9726437ba6a7914db3d75ada",
       "version_major": 2,
       "version_minor": 0
      },
      "text/plain": [
       "iteracion:   0%|          | 0/50 [00:00<?, ?it/s]"
      ]
     },
     "metadata": {},
     "output_type": "display_data"
    },
    {
     "data": {
      "application/vnd.jupyter.widget-view+json": {
       "model_id": "e701c5c2753148e0a50f4b5af8afe358",
       "version_major": 2,
       "version_minor": 0
      },
      "text/plain": [
       "iteracion:   0%|          | 0/50 [00:00<?, ?it/s]"
      ]
     },
     "metadata": {},
     "output_type": "display_data"
    },
    {
     "data": {
      "application/vnd.jupyter.widget-view+json": {
       "model_id": "78410267d8044a8dac3ddc40b22e0c46",
       "version_major": 2,
       "version_minor": 0
      },
      "text/plain": [
       "iteracion:   0%|          | 0/50 [00:00<?, ?it/s]"
      ]
     },
     "metadata": {},
     "output_type": "display_data"
    },
    {
     "data": {
      "application/vnd.jupyter.widget-view+json": {
       "model_id": "2a05e2c438884fabb0ef27cfa6d71a51",
       "version_major": 2,
       "version_minor": 0
      },
      "text/plain": [
       "iteracion:   0%|          | 0/50 [00:00<?, ?it/s]"
      ]
     },
     "metadata": {},
     "output_type": "display_data"
    },
    {
     "data": {
      "application/vnd.jupyter.widget-view+json": {
       "model_id": "858cc269402f42719c0442ecdfa191b4",
       "version_major": 2,
       "version_minor": 0
      },
      "text/plain": [
       "iteracion:   0%|          | 0/50 [00:00<?, ?it/s]"
      ]
     },
     "metadata": {},
     "output_type": "display_data"
    },
    {
     "data": {
      "application/vnd.jupyter.widget-view+json": {
       "model_id": "f28fe60d1342473c9a95481953622316",
       "version_major": 2,
       "version_minor": 0
      },
      "text/plain": [
       "iteracion:   0%|          | 0/50 [00:00<?, ?it/s]"
      ]
     },
     "metadata": {},
     "output_type": "display_data"
    },
    {
     "data": {
      "application/vnd.jupyter.widget-view+json": {
       "model_id": "71cef7eee840414592750c16f92c8e26",
       "version_major": 2,
       "version_minor": 0
      },
      "text/plain": [
       "iteracion:   0%|          | 0/50 [00:00<?, ?it/s]"
      ]
     },
     "metadata": {},
     "output_type": "display_data"
    },
    {
     "data": {
      "application/vnd.jupyter.widget-view+json": {
       "model_id": "d33fc23ee9dc46748d33b05a1cb965a0",
       "version_major": 2,
       "version_minor": 0
      },
      "text/plain": [
       "iteracion:   0%|          | 0/50 [00:00<?, ?it/s]"
      ]
     },
     "metadata": {},
     "output_type": "display_data"
    },
    {
     "data": {
      "application/vnd.jupyter.widget-view+json": {
       "model_id": "cecabdff950749d98c481463a84a397d",
       "version_major": 2,
       "version_minor": 0
      },
      "text/plain": [
       "iteracion:   0%|          | 0/50 [00:00<?, ?it/s]"
      ]
     },
     "metadata": {},
     "output_type": "display_data"
    },
    {
     "data": {
      "application/vnd.jupyter.widget-view+json": {
       "model_id": "f05f973b7f2f45baa939dff75484942f",
       "version_major": 2,
       "version_minor": 0
      },
      "text/plain": [
       "iteracion:   0%|          | 0/50 [00:00<?, ?it/s]"
      ]
     },
     "metadata": {},
     "output_type": "display_data"
    },
    {
     "name": "stdout",
     "output_type": "stream",
     "text": [
      "[(0.0, 171122.91800135584), (0.05, 98911.17843803778), (0.1, 87850.97695902879), (0.15, 80892.57459648444), (0.2, 78482.52122235029), (0.25, 76031.44525333987), (0.3, 74002.83773300602), (0.35, 71877.28702283824), (0.4, 72251.09148331064), (0.45, 71076.51929031356), (0.5, 70270.56829572859), (0.55, 69993.29883442383), (0.6, 69309.86347145638), (0.65, 69764.51780977455), (0.7, 68474.5951450206), (0.75, 69204.20627052807), (0.8, 69184.90104673781), (0.85, 69775.32323229205), (0.9, 70673.908359854), (0.95, 70837.58433062298)]\n"
     ]
    }
   ],
   "source": [
    "# g,tpoblacion, iteraciones, mutacion=mutacion_individual,reemplazo=reemplazo_mitad, probabilidad_mutacion=0.25 ):\n",
    "print('EJECUCIONES DEPENDIENDO DE LA PROBABILIDAD DE MUTACIÓN')\n",
    "probab_mutacion=[x/100 for x in range(0,100, 5)]\n",
    "respuesta=[]\n",
    "res=0.0\n",
    "\n",
    "for t in trange(len(probab_mutacion),desc='Progreso de tamanhos'):\n",
    "    for j in trange(50, desc='iteracion'):\n",
    "        res+=(algoritmo_genetico_vc(g2,32, 500, mutacion=mutacion_cromosomica, probabilidad_mutacion=probab_mutacion[t]))[1]\n",
    "    respuesta.append((probab_mutacion[t], res/50))\n",
    "    res=0\n",
    "print(respuesta)\n",
    "\n",
    "respuesta_2=[]\n",
    "res=0.0\n",
    "for t in trange(len(probab_mutacion),desc='Progreso de tamanhos'):\n",
    "    for j in trange(50, desc='iteracion'):\n",
    "             res+=(algoritmo_genetico_vc(g2,32, 500, mutacion=mutacion_individual, probabilidad_mutacion=probab_mutacion[t]))[1]\n",
    "    respuesta_2.append((probab_mutacion[t], res/50))\n",
    "    res=0\n",
    "print(respuesta_2)\n",
    "\n"
   ]
  },
  {
   "cell_type": "code",
   "execution_count": 172,
   "id": "5c46fb47",
   "metadata": {},
   "outputs": [
    {
     "data": {
      "image/png": "[encoded data removed]",
      "text/plain": [
       "<Figure size 432x288 with 1 Axes>"
      ]
     },
     "metadata": {
      "needs_background": "light"
     },
     "output_type": "display_data"
    }
   ],
   "source": [
    "plt.plot(*zip(*respuesta))\n",
    "plt.plot(*zip(*respuesta_2))\n",
    "plt.show()\n",
    "    "
   ]
  },
  {
   "cell_type": "markdown",
   "id": "95d8d784",
   "metadata": {},
   "source": [
    "Para este laboratorio empregouse o mesmo método que na anterior investigación. Neste caso, no eixo das 'x' representase a probabilidade mentres que no da 'y' ségue sendo o custo.\n",
    "Coa liña azul represéntase as probas realizadas coa metodoloxía de mutación cromosómica. Era de esperar que preesntase esa tendencia, para valores pequenos de probabilidade o custo baixa drasticamente pero ao pasar dun umbral sube. Isto pasa xa que, ao ser cromosómico valorarase cada un dos xenes que compoñen o cromosoma, e, para valores un pouco altos de probabilidade produciríase en case todos os cromosomas unha mutación polo que o resultado sería prácticamente aleatorio e non se mantería nada do cromosoma resultante tras o cruce. O mínimo custo obtido coa mutación cromosómica é coa probabilidade de 0.1 ou 0.15.\n",
    "\n",
    "Por outra parte, atoparíamos a liña laraxa que representa a mutación individual. Este método fai que o custo baixe ata máis ou menos a probabilidade do 0.60, pero, para os porcentaxes superiores a este, o custo subirá.  O custo mellora xa que, ao aportar un cambio nas solucións, favorecerá que o algoritmo non caia en mínimos locais de tal xeito que é máis probable que nos dé mellores valores. En caso de que a probabilidade fose moi alta faría que o algoritmo fose demasiado \"aleatorio\" facendo que o custo se incremente de novo (que é o que vemos que pasa na gráfica anterior)\n",
    "Por isto, obtaríase por escoeller unha probabilidade do 0.55 que é o punto no que vemos o menor valor.\n",
    "\n",
    "Tras este análise, as probas para o último exercicio realizaranse con mutación individual con unha probabilidade do 0.55"
   ]
  },
  {
   "cell_type": "markdown",
   "id": "e24519bc",
   "metadata": {},
   "source": [
    "### Pregunta 4 (2 puntos)"
   ]
  },
  {
   "cell_type": "markdown",
   "id": "fe698d61",
   "metadata": {},
   "source": [
    "❓ Pregunta 4. Finalmente realiza un estudio variando el número de iteraciones máximas en el rango de 50 a 1000, considerando un paso variable o adaptativo a conveniencia. ¿Qué valor recomendarías para este parámetro? ¿Por qué? Realiza una discusión reflexionando sobre los resultados conjuntos de estos tres parámetros."
   ]
  },
  {
   "cell_type": "code",
   "execution_count": 173,
   "id": "53da599f",
   "metadata": {
    "scrolled": true
   },
   "outputs": [
    {
     "name": "stdout",
     "output_type": "stream",
     "text": [
      "EJECUCIONES DEPENDIENDO DEL NÚMERO DE ITERACIONES\n"
     ]
    },
    {
     "data": {
      "application/vnd.jupyter.widget-view+json": {
       "model_id": "05269607268342dea89c75e086b37c68",
       "version_major": 2,
       "version_minor": 0
      },
      "text/plain": [
       "Progreso de tamanhos:   0%|          | 0/20 [00:00<?, ?it/s]"
      ]
     },
     "metadata": {},
     "output_type": "display_data"
    },
    {
     "data": {
      "application/vnd.jupyter.widget-view+json": {
       "model_id": "a32a615911f942b3a14a2b7c83a1730b",
       "version_major": 2,
       "version_minor": 0
      },
      "text/plain": [
       "iteracion:   0%|          | 0/10 [00:00<?, ?it/s]"
      ]
     },
     "metadata": {},
     "output_type": "display_data"
    },
    {
     "data": {
      "application/vnd.jupyter.widget-view+json": {
       "model_id": "529618c2ac8344638c2cb20dcb15aed9",
       "version_major": 2,
       "version_minor": 0
      },
      "text/plain": [
       "iteracion:   0%|          | 0/10 [00:00<?, ?it/s]"
      ]
     },
     "metadata": {},
     "output_type": "display_data"
    },
    {
     "data": {
      "application/vnd.jupyter.widget-view+json": {
       "model_id": "e61b16d5be8a4182aa05cb5efac100f5",
       "version_major": 2,
       "version_minor": 0
      },
      "text/plain": [
       "iteracion:   0%|          | 0/10 [00:00<?, ?it/s]"
      ]
     },
     "metadata": {},
     "output_type": "display_data"
    },
    {
     "data": {
      "application/vnd.jupyter.widget-view+json": {
       "model_id": "c4df270c06dd476d9b93882aea576cff",
       "version_major": 2,
       "version_minor": 0
      },
      "text/plain": [
       "iteracion:   0%|          | 0/10 [00:00<?, ?it/s]"
      ]
     },
     "metadata": {},
     "output_type": "display_data"
    },
    {
     "data": {
      "application/vnd.jupyter.widget-view+json": {
       "model_id": "44b977b78c7849d58f465eff8fcae44a",
       "version_major": 2,
       "version_minor": 0
      },
      "text/plain": [
       "iteracion:   0%|          | 0/10 [00:00<?, ?it/s]"
      ]
     },
     "metadata": {},
     "output_type": "display_data"
    },
    {
     "data": {
      "application/vnd.jupyter.widget-view+json": {
       "model_id": "cf66b14db28945dea1aeee308317e7fd",
       "version_major": 2,
       "version_minor": 0
      },
      "text/plain": [
       "iteracion:   0%|          | 0/10 [00:00<?, ?it/s]"
      ]
     },
     "metadata": {},
     "output_type": "display_data"
    },
    {
     "data": {
      "application/vnd.jupyter.widget-view+json": {
       "model_id": "88f7f71cd12347fba337da61f66bbde9",
       "version_major": 2,
       "version_minor": 0
      },
      "text/plain": [
       "iteracion:   0%|          | 0/10 [00:00<?, ?it/s]"
      ]
     },
     "metadata": {},
     "output_type": "display_data"
    },
    {
     "data": {
      "application/vnd.jupyter.widget-view+json": {
       "model_id": "1be7dbac23674390b66d446007742441",
       "version_major": 2,
       "version_minor": 0
      },
      "text/plain": [
       "iteracion:   0%|          | 0/10 [00:00<?, ?it/s]"
      ]
     },
     "metadata": {},
     "output_type": "display_data"
    },
    {
     "data": {
      "application/vnd.jupyter.widget-view+json": {
       "model_id": "b974d1e95a1b4a66bbf61988f0d8fafe",
       "version_major": 2,
       "version_minor": 0
      },
      "text/plain": [
       "iteracion:   0%|          | 0/10 [00:00<?, ?it/s]"
      ]
     },
     "metadata": {},
     "output_type": "display_data"
    },
    {
     "data": {
      "application/vnd.jupyter.widget-view+json": {
       "model_id": "2801cf69c79c4572abeae33f9246d125",
       "version_major": 2,
       "version_minor": 0
      },
      "text/plain": [
       "iteracion:   0%|          | 0/10 [00:00<?, ?it/s]"
      ]
     },
     "metadata": {},
     "output_type": "display_data"
    },
    {
     "data": {
      "application/vnd.jupyter.widget-view+json": {
       "model_id": "b4fce1e249ec4194bf2d13408958c7bc",
       "version_major": 2,
       "version_minor": 0
      },
      "text/plain": [
       "iteracion:   0%|          | 0/10 [00:00<?, ?it/s]"
      ]
     },
     "metadata": {},
     "output_type": "display_data"
    },
    {
     "data": {
      "application/vnd.jupyter.widget-view+json": {
       "model_id": "9d499159139f4c84a6553976d24fef70",
       "version_major": 2,
       "version_minor": 0
      },
      "text/plain": [
       "iteracion:   0%|          | 0/10 [00:00<?, ?it/s]"
      ]
     },
     "metadata": {},
     "output_type": "display_data"
    },
    {
     "data": {
      "application/vnd.jupyter.widget-view+json": {
       "model_id": "6cea55d6b5cc4fe7a2e259bf233b6197",
       "version_major": 2,
       "version_minor": 0
      },
      "text/plain": [
       "iteracion:   0%|          | 0/10 [00:00<?, ?it/s]"
      ]
     },
     "metadata": {},
     "output_type": "display_data"
    },
    {
     "data": {
      "application/vnd.jupyter.widget-view+json": {
       "model_id": "6e5952f3dfd14e678beb71e77b668a4f",
       "version_major": 2,
       "version_minor": 0
      },
      "text/plain": [
       "iteracion:   0%|          | 0/10 [00:00<?, ?it/s]"
      ]
     },
     "metadata": {},
     "output_type": "display_data"
    },
    {
     "data": {
      "application/vnd.jupyter.widget-view+json": {
       "model_id": "562f211405af473e930b07c707c69a14",
       "version_major": 2,
       "version_minor": 0
      },
      "text/plain": [
       "iteracion:   0%|          | 0/10 [00:00<?, ?it/s]"
      ]
     },
     "metadata": {},
     "output_type": "display_data"
    },
    {
     "data": {
      "application/vnd.jupyter.widget-view+json": {
       "model_id": "6bbd55d1119e4f078bc2506a1db1ddd4",
       "version_major": 2,
       "version_minor": 0
      },
      "text/plain": [
       "iteracion:   0%|          | 0/10 [00:00<?, ?it/s]"
      ]
     },
     "metadata": {},
     "output_type": "display_data"
    },
    {
     "data": {
      "application/vnd.jupyter.widget-view+json": {
       "model_id": "07775d85e10c4aef9642224afa16aa88",
       "version_major": 2,
       "version_minor": 0
      },
      "text/plain": [
       "iteracion:   0%|          | 0/10 [00:00<?, ?it/s]"
      ]
     },
     "metadata": {},
     "output_type": "display_data"
    },
    {
     "data": {
      "application/vnd.jupyter.widget-view+json": {
       "model_id": "164f95b4200945dd88a3e4b7cf11b8d7",
       "version_major": 2,
       "version_minor": 0
      },
      "text/plain": [
       "iteracion:   0%|          | 0/10 [00:00<?, ?it/s]"
      ]
     },
     "metadata": {},
     "output_type": "display_data"
    },
    {
     "data": {
      "application/vnd.jupyter.widget-view+json": {
       "model_id": "25da45bc381b4905b92fcf8d9e1d8664",
       "version_major": 2,
       "version_minor": 0
      },
      "text/plain": [
       "iteracion:   0%|          | 0/10 [00:00<?, ?it/s]"
      ]
     },
     "metadata": {},
     "output_type": "display_data"
    },
    {
     "data": {
      "application/vnd.jupyter.widget-view+json": {
       "model_id": "69e7be4b316e4419881a1553b4708cc0",
       "version_major": 2,
       "version_minor": 0
      },
      "text/plain": [
       "iteracion:   0%|          | 0/10 [00:00<?, ?it/s]"
      ]
     },
     "metadata": {},
     "output_type": "display_data"
    },
    {
     "name": "stdout",
     "output_type": "stream",
     "text": [
      "[(50, 133179.17228149826), (100, 111407.77690702486), (150, 99832.05665913802), (200, 94233.86571728818), (250, 86308.00607839072), (300, 82197.09853949373), (350, 77564.73472080634), (400, 74385.09651494905), (450, 72626.75218825569), (500, 69576.4543244666), (550, 69270.06985450393), (600, 65144.81747955437), (650, 65168.91210263517), (700, 63210.91768109839), (750, 61524.9300922524), (800, 63811.67858973246), (850, 59762.15171062185), (900, 59321.869136468005), (950, 58050.107714699836), (1000, 56256.375883350105)]\n"
     ]
    }
   ],
   "source": [
    "iteraciones=[x for x in range(50,1050,50)]\n",
    "# g,tpoblacion, iteraciones, mutacion=mutacion_individual,reemplazo=reemplazo_mitad, probabilidad_mutacion=0.25 ):\n",
    "print('EJECUCIONES DEPENDIENDO DEL NÚMERO DE ITERACIONES')\n",
    "\n",
    "respuesta=[]\n",
    "res=0.0\n",
    "\n",
    "for t in trange(len(iteraciones),desc='Progreso de tamanhos'):\n",
    "    for j in trange(10, desc='iteracion'):\n",
    "        res+=(algoritmo_genetico_vc(g2,32, iteraciones[t],probabilidad_mutacion=0.55))[1]\n",
    "    respuesta.append((iteraciones[t], res/10))\n",
    "    res=0\n",
    "print(respuesta)\n",
    "\n"
   ]
  },
  {
   "cell_type": "code",
   "execution_count": 174,
   "id": "e3608a24",
   "metadata": {
    "scrolled": true
   },
   "outputs": [
    {
     "data": {
      "image/png": "[encoded data removed]",
      "text/plain": [
       "<Figure size 432x288 with 1 Axes>"
      ]
     },
     "metadata": {
      "needs_background": "light"
     },
     "output_type": "display_data"
    }
   ],
   "source": [
    "plt.plot(*zip(*respuesta))\n",
    "plt.show()"
   ]
  },
  {
   "cell_type": "markdown",
   "id": "646d4664",
   "metadata": {},
   "source": [
    "Como podemos ver na gráfica anterior vemos un descenso do coste ao aumentar as iteracións. Como se realizou coa elección do tamaño da poboación, neste caso tamén seguiremos a regra do cóbado para chegar a un 'pacto' entre un custo e tempo. Neste caso vemos como un valor apropiado 800 iteracións xa que non supoñen un tempo excesivo de cómputo é da resultados similares a máis iteracións. \n",
    "\n",
    "Con todas as eleccións de descendemos a un custo entorno aos 59.000-60.000.\n",
    "Nas seguinte celda probarase o outro tamaño de poboación que se barallou(64) además do elixido, para ver o valor mínimo do custo obtido en 100 execucións. Ademáis mostrarase cantas solucións son aceptadas cunha desviación do 25% con respecto ao mínimo atopado."
   ]
  },
  {
   "cell_type": "code",
   "execution_count": 175,
   "id": "f5bf479f",
   "metadata": {},
   "outputs": [
    {
     "data": {
      "application/vnd.jupyter.widget-view+json": {
       "model_id": "ee80a14b17c44169bed1d6dca872b9f9",
       "version_major": 2,
       "version_minor": 0
      },
      "text/plain": [
       "iteracion:   0%|          | 0/100 [00:00<?, ?it/s]"
      ]
     },
     "metadata": {},
     "output_type": "display_data"
    },
    {
     "name": "stdout",
     "output_type": "stream",
     "text": [
      "O mínimo obt é:  51450.51801674475\n",
      "76.0\n"
     ]
    }
   ],
   "source": [
    "import numpy as np\n",
    "res=[]\n",
    "for j in trange(100, desc='iteracion'):\n",
    "    res.append(algoritmo_genetico_vc(g2,32,800,probabilidad_mutacion=0.55)[1])\n",
    "\n",
    "contador=0\n",
    "minimo=np.amin(res)\n",
    "print('O mínimo obt é: ', minimo)\n",
    "for i in res:\n",
    "    if minimo +  0.25*minimo >= i:\n",
    "        contador+=1\n",
    "print((contador/len(res))*100)"
   ]
  },
  {
   "cell_type": "code",
   "execution_count": 176,
   "id": "42e32943",
   "metadata": {},
   "outputs": [
    {
     "data": {
      "application/vnd.jupyter.widget-view+json": {
       "model_id": "acf1219ae05440779fd7cd20070b2edd",
       "version_major": 2,
       "version_minor": 0
      },
      "text/plain": [
       "iteracion:   0%|          | 0/100 [00:00<?, ?it/s]"
      ]
     },
     "metadata": {},
     "output_type": "display_data"
    },
    {
     "name": "stdout",
     "output_type": "stream",
     "text": [
      "O mínimo obtido é:  47005.47098849118\n",
      "65.0\n"
     ]
    }
   ],
   "source": [
    "res=[]\n",
    "for j in trange(100, desc='iteracion'):\n",
    "    res.append(algoritmo_genetico_vc(g2,64,800,probabilidad_mutacion=0.55)[1])\n",
    "contador=0\n",
    "minimo=np.amin(res)\n",
    "print('O mínimo obtido é: ', minimo)\n",
    "for i in res:\n",
    "    if minimo +  0.25*minimo >= i:\n",
    "        contador+=1\n",
    "print((contador/len(res))*100)"
   ]
  },
  {
   "cell_type": "markdown",
   "id": "c2100701",
   "metadata": {},
   "source": [
    "Podemos ver que, con N=32 obtemos uncusto 5000 puntos superior ao de 64 pero supón un incremento no tempo de execución( o dobre, con N=32 as 100 execucións tardan arredor de 40 segundos, mentres que con 64 tarda 1min e 30 segundos). Por outra banda, vemos que, coa primera execución todos os resultados se atopan máis cercanos ao mínimo que con N=64 o que nos dá unha confianza maior.\n",
    "\n",
    "Tras analizar estos resultados podemos ver como este algoritmo nos dá solucións peores que outras estudadas con anterioridade como a búsqueda tabú que, para o mesmo problema, daba solucións sobre os 20000 en custo."
   ]
  }
 ],
 "metadata": {
  "kernelspec": {
   "display_name": "Python 3 (ipykernel)",
   "language": "python",
   "name": "python3"
  },
  "language_info": {
   "codemirror_mode": {
    "name": "ipython",
    "version": 3
   },
   "file_extension": ".py",
   "mimetype": "text/x-python",
   "name": "python",
   "nbconvert_exporter": "python",
   "pygments_lexer": "ipython3",
   "version": "3.9.7"
  }
 },
 "nbformat": 4,
 "nbformat_minor": 5
}
